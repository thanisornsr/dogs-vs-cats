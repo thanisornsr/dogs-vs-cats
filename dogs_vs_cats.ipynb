{
  "nbformat": 4,
  "nbformat_minor": 0,
  "metadata": {
    "colab": {
      "name": "dogs_vs_cats.ipynb",
      "provenance": []
    },
    "kernelspec": {
      "name": "python3",
      "display_name": "Python 3"
    },
    "accelerator": "GPU"
  },
  "cells": [
    {
      "cell_type": "code",
      "metadata": {
        "id": "Bg7YlpL2w5bM",
        "outputId": "415560f4-ac77-464c-f12c-c5cdceb0daf5",
        "colab": {
          "base_uri": "https://localhost:8080/",
          "height": 35
        }
      },
      "source": [
        "from google.colab import drive\n",
        "drive.mount('/content/drive', force_remount=True)"
      ],
      "execution_count": null,
      "outputs": [
        {
          "output_type": "stream",
          "text": [
            "Mounted at /content/drive\n"
          ],
          "name": "stdout"
        }
      ]
    },
    {
      "cell_type": "code",
      "metadata": {
        "id": "cDAaGXLhc0b1",
        "outputId": "dd874f11-54ee-40d3-fa41-42d847a0697d",
        "colab": {
          "base_uri": "https://localhost:8080/",
          "height": 201
        }
      },
      "source": [
        "!pip install ipython-autotime\n",
        "%load_ext autotime"
      ],
      "execution_count": null,
      "outputs": [
        {
          "output_type": "stream",
          "text": [
            "Collecting ipython-autotime\n",
            "  Downloading https://files.pythonhosted.org/packages/e6/f9/0626bbdb322e3a078d968e87e3b01341e7890544de891d0cb613641220e6/ipython-autotime-0.1.tar.bz2\n",
            "Building wheels for collected packages: ipython-autotime\n",
            "  Building wheel for ipython-autotime (setup.py) ... \u001b[?25l\u001b[?25hdone\n",
            "  Created wheel for ipython-autotime: filename=ipython_autotime-0.1-cp36-none-any.whl size=1831 sha256=8eb864f80c3309341c633f43fb9707de77bbc9b184c63b326af5a17fe8565b14\n",
            "  Stored in directory: /root/.cache/pip/wheels/d2/df/81/2db1e54bc91002cec40334629bc39cfa86dff540b304ebcd6e\n",
            "Successfully built ipython-autotime\n",
            "Installing collected packages: ipython-autotime\n",
            "Successfully installed ipython-autotime-0.1\n"
          ],
          "name": "stdout"
        }
      ]
    },
    {
      "cell_type": "code",
      "metadata": {
        "id": "E6D9OobHO2P0",
        "outputId": "f3aec952-0db8-4ab6-9c00-fee2c1b68170",
        "colab": {
          "base_uri": "https://localhost:8080/",
          "height": 35
        }
      },
      "source": [
        "import os\n",
        "import cv2\n",
        "import glob\n",
        "import numpy as np\n",
        "import pandas as pd\n",
        "import matplotlib.pyplot as plt\n",
        "\n",
        "from keras.models import Model\n",
        "from keras.layers import Input,Conv2D,Activation,Dense,Lambda,Flatten,Embedding,PReLU,BatchNormalization,GlobalAveragePooling2D,Dropout\n",
        "from keras.optimizers import Adam\n",
        "from keras.callbacks import EarlyStopping, ModelCheckpoint, ReduceLROnPlateau\n",
        "from keras.utils import to_categorical\n",
        "from keras.preprocessing.image import ImageDataGenerator, load_img, img_to_array\n",
        "from keras import backend as K\n",
        "from keras.utils.vis_utils import plot_model\n",
        "from keras.models import load_model\n",
        "\n",
        "\n",
        "from keras.applications import ResNet50"
      ],
      "execution_count": null,
      "outputs": [
        {
          "output_type": "stream",
          "text": [
            "time: 1.97 s\n"
          ],
          "name": "stdout"
        }
      ]
    },
    {
      "cell_type": "code",
      "metadata": {
        "id": "VK8q8AtW07eL"
      },
      "source": [
        "!gdown https://drive.google.com/uc?id=1WwGOMwyPlthp0ZF8f58VKrjRTkwUfDpZ\n",
        "!unzip data.zip"
      ],
      "execution_count": null,
      "outputs": []
    },
    {
      "cell_type": "code",
      "metadata": {
        "id": "bHXkMEJkw-P5",
        "outputId": "33ed0bcf-f5bd-471d-d3b3-340195900ada",
        "colab": {
          "base_uri": "https://localhost:8080/",
          "height": 54
        }
      },
      "source": [
        "%cd /content/drive/My Drive/dog_vs_cat/"
      ],
      "execution_count": null,
      "outputs": [
        {
          "output_type": "stream",
          "text": [
            "/content/drive/My Drive/dog_vs_cat\n",
            "time: 4.33 s\n"
          ],
          "name": "stdout"
        }
      ]
    },
    {
      "cell_type": "code",
      "metadata": {
        "id": "uGPYXl0naYz5",
        "outputId": "13fe6e8b-d0aa-4000-c39f-e6f893fd1ce5",
        "colab": {
          "base_uri": "https://localhost:8080/",
          "height": 90
        }
      },
      "source": [
        "list = os.listdir('/content/data/train/dog/')\n",
        "nbr_dog = len(list)\n",
        "list = os.listdir('/content/data/train/cat/')\n",
        "nbr_cat = len(list)\n",
        "print('Total number of dog: ' + str(nbr_dog))\n",
        "print('Total number of cat: ' + str(nbr_cat))\n",
        "nbr_data = nbr_dog + nbr_cat\n",
        "#should be 25000\n",
        "print('Total number of data: ' + str(nbr_data))"
      ],
      "execution_count": null,
      "outputs": [
        {
          "output_type": "stream",
          "text": [
            "Total number of dog: 12500\n",
            "Total number of cat: 12500\n",
            "Total number of data: 25000\n",
            "time: 46.9 ms\n"
          ],
          "name": "stdout"
        }
      ]
    },
    {
      "cell_type": "code",
      "metadata": {
        "id": "SsGNHLs8sqrg",
        "outputId": "ce641c71-0abe-48ca-d910-2cd921e274cf",
        "colab": {
          "base_uri": "https://localhost:8080/",
          "height": 54
        }
      },
      "source": [
        "list = os.listdir('/content/data/test/')\n",
        "nbr_test = len(list)\n",
        "#should be 12500\n",
        "print('Total number of test: ' + str(nbr_test))"
      ],
      "execution_count": null,
      "outputs": [
        {
          "output_type": "stream",
          "text": [
            "Total number of test: 12500\n",
            "time: 24.7 ms\n"
          ],
          "name": "stdout"
        }
      ]
    },
    {
      "cell_type": "code",
      "metadata": {
        "id": "Gp_nwilXPUH6",
        "outputId": "319338e9-160b-4d5e-900b-da06aebd9042",
        "colab": {
          "base_uri": "https://localhost:8080/",
          "height": 35
        }
      },
      "source": [
        "train_dir = '/content/data/train/'\n",
        "test_dir = '/content/data/test/'"
      ],
      "execution_count": null,
      "outputs": [
        {
          "output_type": "stream",
          "text": [
            "time: 1.72 ms\n"
          ],
          "name": "stdout"
        }
      ]
    },
    {
      "cell_type": "code",
      "metadata": {
        "id": "y1GM6oNPP2n6",
        "outputId": "1e1c5b63-084c-4156-c282-751892ab54a5",
        "colab": {
          "base_uri": "https://localhost:8080/",
          "height": 35
        }
      },
      "source": [
        "datagen = ImageDataGenerator(\n",
        "                             horizontal_flip=True, \n",
        "                             zoom_range=0.1,\n",
        "                             fill_mode=\"constant\",\n",
        "                             channel_shift_range=10,\n",
        "                             rotation_range=5,\n",
        "                             width_shift_range=0.05,\n",
        "                             height_shift_range=0.05,\n",
        "                             validation_split = 0.2,\n",
        "                             rescale=1./255\n",
        "                             )"
      ],
      "execution_count": null,
      "outputs": [
        {
          "output_type": "stream",
          "text": [
            "time: 11.8 ms\n"
          ],
          "name": "stdout"
        }
      ]
    },
    {
      "cell_type": "code",
      "metadata": {
        "id": "Ya7Vl7hOW2dY",
        "outputId": "c5fd425f-5a08-4c4f-fad3-dc9953f7b412",
        "colab": {
          "base_uri": "https://localhost:8080/",
          "height": 72
        }
      },
      "source": [
        "batchSize = 32\n",
        "\n",
        "train_gen = datagen.flow_from_directory(\n",
        "                                        train_dir,\n",
        "                                        target_size=(224, 224),\n",
        "                                        color_mode=\"rgb\",\n",
        "                                        shuffle=True,\n",
        "                                        class_mode='binary',\n",
        "                                        batch_size=batchSize,\n",
        "                                        seed = 44,\n",
        "                                        subset=\"training\",\n",
        "                                        interpolation=\"nearest\"\n",
        "                                        )\n",
        "\n",
        "val_gen = datagen.flow_from_directory(\n",
        "                                        train_dir,\n",
        "                                        target_size=(224, 224),\n",
        "                                        color_mode=\"rgb\",\n",
        "                                        shuffle=True,\n",
        "                                        class_mode='binary',\n",
        "                                        batch_size=batchSize,\n",
        "                                        seed = 44,\n",
        "                                        subset=\"validation\",\n",
        "                                        interpolation=\"nearest\"\n",
        "                                        )"
      ],
      "execution_count": null,
      "outputs": [
        {
          "output_type": "stream",
          "text": [
            "Found 20000 images belonging to 2 classes.\n",
            "Found 5000 images belonging to 2 classes.\n",
            "time: 712 ms\n"
          ],
          "name": "stdout"
        }
      ]
    },
    {
      "cell_type": "code",
      "metadata": {
        "id": "yFVSkbHxYaDL",
        "outputId": "142ef57d-9f74-423e-a333-eb45eb194740",
        "colab": {
          "base_uri": "https://localhost:8080/",
          "height": 35
        }
      },
      "source": [
        "def my_model(input_shape1, dropout, learning_rate = 0.0005):\n",
        "    \n",
        "\n",
        "    base_model = ResNet50(weights = 'imagenet', include_top=False)\n",
        "\n",
        "    # for layer in base_model.layers[:]:\n",
        "    #     layer.trainable = False\n",
        "\n",
        "    model_input_1 = Input(input_shape1)\n",
        "    x = base_model(model_input_1)\n",
        "    x = GlobalAveragePooling2D()(x)\n",
        "    \n",
        "    y1 = Dense(1024,activation='relu')(x)\n",
        "    y1 = Dropout(dropout)(y1)\n",
        "    y1 = Dense(1024,activation='relu')(y1)\n",
        "    y1 = Dropout(dropout)(y1)\n",
        "    y1 = Dense(512,activation='relu')(y1)\n",
        "    y1 = Dropout(dropout)(y1)\n",
        "    y1 = Dense(256,activation='relu')(y1)\n",
        "    y1 = Dropout(dropout)(y1)\n",
        "    \n",
        "    y1_h = Dense(1, activation = 'sigmoid', name = 'Class')(y1)\n",
        "\n",
        "    model = Model(inputs=[model_input_1], outputs= [y1_h])\n",
        "    \n",
        "    optimizer = Adam(learning_rate=learning_rate)\n",
        "    \n",
        "    model.compile(loss='binary_crossentropy', optimizer=optimizer,metrics=['accuracy'])\n",
        "    \n",
        "    return model"
      ],
      "execution_count": null,
      "outputs": [
        {
          "output_type": "stream",
          "text": [
            "time: 11.3 ms\n"
          ],
          "name": "stdout"
        }
      ]
    },
    {
      "cell_type": "code",
      "metadata": {
        "id": "ZdYhKa5vY6FY",
        "outputId": "6b145eae-1381-4c5a-c4a9-5a8836fc38f6",
        "colab": {
          "base_uri": "https://localhost:8080/",
          "height": 654
        }
      },
      "source": [
        "model = my_model(input_shape1 = (224,224,3), dropout = 0.2)\n",
        "model.summary()"
      ],
      "execution_count": null,
      "outputs": [
        {
          "output_type": "stream",
          "text": [
            "Downloading data from https://storage.googleapis.com/tensorflow/keras-applications/resnet/resnet50_weights_tf_dim_ordering_tf_kernels_notop.h5\n",
            "94773248/94765736 [==============================] - 1s 0us/step\n",
            "Model: \"functional_1\"\n",
            "_________________________________________________________________\n",
            "Layer (type)                 Output Shape              Param #   \n",
            "=================================================================\n",
            "input_2 (InputLayer)         [(None, 224, 224, 3)]     0         \n",
            "_________________________________________________________________\n",
            "resnet50 (Functional)        (None, None, None, 2048)  23587712  \n",
            "_________________________________________________________________\n",
            "global_average_pooling2d (Gl (None, 2048)              0         \n",
            "_________________________________________________________________\n",
            "dense (Dense)                (None, 1024)              2098176   \n",
            "_________________________________________________________________\n",
            "dropout (Dropout)            (None, 1024)              0         \n",
            "_________________________________________________________________\n",
            "dense_1 (Dense)              (None, 1024)              1049600   \n",
            "_________________________________________________________________\n",
            "dropout_1 (Dropout)          (None, 1024)              0         \n",
            "_________________________________________________________________\n",
            "dense_2 (Dense)              (None, 512)               524800    \n",
            "_________________________________________________________________\n",
            "dropout_2 (Dropout)          (None, 512)               0         \n",
            "_________________________________________________________________\n",
            "dense_3 (Dense)              (None, 256)               131328    \n",
            "_________________________________________________________________\n",
            "dropout_3 (Dropout)          (None, 256)               0         \n",
            "_________________________________________________________________\n",
            "Class (Dense)                (None, 1)                 257       \n",
            "=================================================================\n",
            "Total params: 27,391,873\n",
            "Trainable params: 27,338,753\n",
            "Non-trainable params: 53,120\n",
            "_________________________________________________________________\n",
            "time: 9.12 s\n"
          ],
          "name": "stdout"
        }
      ]
    },
    {
      "cell_type": "code",
      "metadata": {
        "id": "VaSVSfxWZBC8",
        "outputId": "029c351c-bfa5-4ae4-801a-68d3984d2c23",
        "colab": {
          "base_uri": "https://localhost:8080/",
          "height": 35
        }
      },
      "source": [
        "es = EarlyStopping(monitor='val_loss', mode='min', patience=4)\n",
        "mc = ModelCheckpoint('best_model.h5', monitor='val_loss', mode='min',save_best_only=True,verbose=1)\n",
        "learning_rate_reduction = ReduceLROnPlateau(monitor='val_loss', \n",
        "                                            patience=2, \n",
        "                                            verbose=1, \n",
        "                                            factor=0.8, \n",
        "                                            min_lr=0.00001)"
      ],
      "execution_count": null,
      "outputs": [
        {
          "output_type": "stream",
          "text": [
            "time: 2.95 ms\n"
          ],
          "name": "stdout"
        }
      ]
    },
    {
      "cell_type": "code",
      "metadata": {
        "id": "2LoUHmuXZvfJ",
        "outputId": "2cb21787-0122-435e-8ebd-bb7aee927dbe",
        "colab": {
          "base_uri": "https://localhost:8080/",
          "height": 72
        }
      },
      "source": [
        "train_steps = int(nbr_data * 0.8)//batchSize\n",
        "val_steps = int(nbr_data * 0.2)//batchSize\n",
        "\n",
        "# for test\n",
        "# train_steps = 10\n",
        "# val_steps = 2\n",
        "\n",
        "\n",
        "print('Training steps: '+ str(train_steps))\n",
        "print('Validation steps: ' + str(val_steps))"
      ],
      "execution_count": null,
      "outputs": [
        {
          "output_type": "stream",
          "text": [
            "Training steps: 625\n",
            "Validation steps: 156\n",
            "time: 3.47 ms\n"
          ],
          "name": "stdout"
        }
      ]
    },
    {
      "cell_type": "code",
      "metadata": {
        "id": "d2X_gH-0Zi1M",
        "outputId": "3741e4d9-18e3-4682-80cc-405dc2c3b152",
        "colab": {
          "base_uri": "https://localhost:8080/",
          "height": 1000
        }
      },
      "source": [
        "#train model \n",
        "epochs = 80\n",
        "\n",
        "history = model.fit_generator(train_gen, steps_per_epoch=train_steps, epochs=epochs,validation_data=val_gen, validation_steps=val_steps, callbacks=[learning_rate_reduction,es,mc])\n",
        "\n",
        "model.save(\"last_model.h5\")"
      ],
      "execution_count": null,
      "outputs": [
        {
          "output_type": "stream",
          "text": [
            "WARNING:tensorflow:From <ipython-input-17-f102ad13ca69>:4: Model.fit_generator (from tensorflow.python.keras.engine.training) is deprecated and will be removed in a future version.\n",
            "Instructions for updating:\n",
            "Please use Model.fit, which supports generators.\n",
            "Epoch 1/80\n",
            "625/625 [==============================] - ETA: 0s - loss: 0.1933 - accuracy: 0.9235\n",
            "Epoch 00001: val_loss improved from inf to 0.67455, saving model to best_model.h5\n",
            "625/625 [==============================] - 388s 621ms/step - loss: 0.1933 - accuracy: 0.9235 - val_loss: 0.6745 - val_accuracy: 0.5198\n",
            "Epoch 2/80\n",
            "625/625 [==============================] - ETA: 0s - loss: 0.1277 - accuracy: 0.9514\n",
            "Epoch 00002: val_loss improved from 0.67455 to 0.42833, saving model to best_model.h5\n",
            "625/625 [==============================] - 380s 608ms/step - loss: 0.1277 - accuracy: 0.9514 - val_loss: 0.4283 - val_accuracy: 0.7861\n",
            "Epoch 3/80\n",
            "625/625 [==============================] - ETA: 0s - loss: 0.1146 - accuracy: 0.9557\n",
            "Epoch 00003: val_loss improved from 0.42833 to 0.14524, saving model to best_model.h5\n",
            "625/625 [==============================] - 378s 605ms/step - loss: 0.1146 - accuracy: 0.9557 - val_loss: 0.1452 - val_accuracy: 0.9469\n",
            "Epoch 4/80\n",
            "625/625 [==============================] - ETA: 0s - loss: 0.1182 - accuracy: 0.9542\n",
            "Epoch 00004: val_loss did not improve from 0.14524\n",
            "625/625 [==============================] - 375s 600ms/step - loss: 0.1182 - accuracy: 0.9542 - val_loss: 0.1815 - val_accuracy: 0.9293\n",
            "Epoch 5/80\n",
            "625/625 [==============================] - ETA: 0s - loss: 0.0898 - accuracy: 0.9656\n",
            "Epoch 00005: val_loss improved from 0.14524 to 0.12033, saving model to best_model.h5\n",
            "625/625 [==============================] - 380s 609ms/step - loss: 0.0898 - accuracy: 0.9656 - val_loss: 0.1203 - val_accuracy: 0.9527\n",
            "Epoch 6/80\n",
            "625/625 [==============================] - ETA: 0s - loss: 0.0924 - accuracy: 0.9656\n",
            "Epoch 00006: val_loss did not improve from 0.12033\n",
            "625/625 [==============================] - 382s 612ms/step - loss: 0.0924 - accuracy: 0.9656 - val_loss: 0.1886 - val_accuracy: 0.9191\n",
            "Epoch 7/80\n",
            "625/625 [==============================] - ETA: 0s - loss: 0.0870 - accuracy: 0.9654\n",
            "Epoch 00007: ReduceLROnPlateau reducing learning rate to 0.0004000000189989805.\n",
            "\n",
            "Epoch 00007: val_loss did not improve from 0.12033\n",
            "625/625 [==============================] - 375s 600ms/step - loss: 0.0870 - accuracy: 0.9654 - val_loss: 0.2498 - val_accuracy: 0.9008\n",
            "Epoch 8/80\n",
            "625/625 [==============================] - ETA: 0s - loss: 0.0640 - accuracy: 0.9769\n",
            "Epoch 00008: val_loss improved from 0.12033 to 0.11176, saving model to best_model.h5\n",
            "625/625 [==============================] - 377s 604ms/step - loss: 0.0640 - accuracy: 0.9769 - val_loss: 0.1118 - val_accuracy: 0.9579\n",
            "Epoch 9/80\n",
            "625/625 [==============================] - ETA: 0s - loss: 0.0658 - accuracy: 0.9751\n",
            "Epoch 00009: val_loss did not improve from 0.11176\n",
            "625/625 [==============================] - 378s 605ms/step - loss: 0.0658 - accuracy: 0.9751 - val_loss: 0.1318 - val_accuracy: 0.9455\n",
            "Epoch 10/80\n",
            "625/625 [==============================] - ETA: 0s - loss: 0.0580 - accuracy: 0.9773\n",
            "Epoch 00010: val_loss improved from 0.11176 to 0.09962, saving model to best_model.h5\n",
            "625/625 [==============================] - 380s 608ms/step - loss: 0.0580 - accuracy: 0.9773 - val_loss: 0.0996 - val_accuracy: 0.9653\n",
            "Epoch 11/80\n",
            "625/625 [==============================] - ETA: 0s - loss: 0.0552 - accuracy: 0.9793\n",
            "Epoch 00011: val_loss did not improve from 0.09962\n",
            "625/625 [==============================] - 377s 603ms/step - loss: 0.0552 - accuracy: 0.9793 - val_loss: 0.3228 - val_accuracy: 0.8810\n",
            "Epoch 12/80\n",
            "625/625 [==============================] - ETA: 0s - loss: 0.0567 - accuracy: 0.9782\n",
            "Epoch 00012: ReduceLROnPlateau reducing learning rate to 0.00032000001519918444.\n",
            "\n",
            "Epoch 00012: val_loss did not improve from 0.09962\n",
            "625/625 [==============================] - 373s 597ms/step - loss: 0.0567 - accuracy: 0.9782 - val_loss: 0.1586 - val_accuracy: 0.9397\n",
            "Epoch 13/80\n",
            "625/625 [==============================] - ETA: 0s - loss: 0.0454 - accuracy: 0.9840\n",
            "Epoch 00013: val_loss did not improve from 0.09962\n",
            "625/625 [==============================] - 376s 602ms/step - loss: 0.0454 - accuracy: 0.9840 - val_loss: 0.1327 - val_accuracy: 0.9481\n",
            "Epoch 14/80\n",
            "625/625 [==============================] - ETA: 0s - loss: 0.0430 - accuracy: 0.9842\n",
            "Epoch 00014: ReduceLROnPlateau reducing learning rate to 0.0002560000168159604.\n",
            "\n",
            "Epoch 00014: val_loss did not improve from 0.09962\n",
            "625/625 [==============================] - 381s 609ms/step - loss: 0.0430 - accuracy: 0.9842 - val_loss: 0.1324 - val_accuracy: 0.9467\n",
            "Epoch 15/80\n",
            "625/625 [==============================] - ETA: 0s - loss: 0.0319 - accuracy: 0.9883\n",
            "Epoch 00015: val_loss did not improve from 0.09962\n",
            "625/625 [==============================] - 385s 616ms/step - loss: 0.0319 - accuracy: 0.9883 - val_loss: 0.2302 - val_accuracy: 0.8980\n",
            "Epoch 16/80\n",
            "625/625 [==============================] - ETA: 0s - loss: 0.0345 - accuracy: 0.9875\n",
            "Epoch 00016: val_loss improved from 0.09962 to 0.09932, saving model to best_model.h5\n",
            "625/625 [==============================] - 383s 613ms/step - loss: 0.0345 - accuracy: 0.9875 - val_loss: 0.0993 - val_accuracy: 0.9688\n",
            "Epoch 17/80\n",
            "625/625 [==============================] - ETA: 0s - loss: 0.0292 - accuracy: 0.9901\n",
            "Epoch 00017: val_loss did not improve from 0.09932\n",
            "625/625 [==============================] - 380s 608ms/step - loss: 0.0292 - accuracy: 0.9901 - val_loss: 0.1039 - val_accuracy: 0.9621\n",
            "Epoch 18/80\n",
            "625/625 [==============================] - ETA: 0s - loss: 0.0314 - accuracy: 0.9893\n",
            "Epoch 00018: ReduceLROnPlateau reducing learning rate to 0.00020480002276599408.\n",
            "\n",
            "Epoch 00018: val_loss did not improve from 0.09932\n",
            "625/625 [==============================] - 373s 597ms/step - loss: 0.0314 - accuracy: 0.9893 - val_loss: 0.2830 - val_accuracy: 0.9048\n",
            "Epoch 19/80\n",
            "625/625 [==============================] - ETA: 0s - loss: 0.0213 - accuracy: 0.9924\n",
            "Epoch 00019: val_loss improved from 0.09932 to 0.07317, saving model to best_model.h5\n",
            "625/625 [==============================] - 377s 603ms/step - loss: 0.0213 - accuracy: 0.9924 - val_loss: 0.0732 - val_accuracy: 0.9766\n",
            "Epoch 20/80\n",
            "625/625 [==============================] - ETA: 0s - loss: 0.0212 - accuracy: 0.9924\n",
            "Epoch 00020: val_loss did not improve from 0.07317\n",
            "625/625 [==============================] - 374s 599ms/step - loss: 0.0212 - accuracy: 0.9924 - val_loss: 0.0998 - val_accuracy: 0.9613\n",
            "Epoch 21/80\n",
            "625/625 [==============================] - ETA: 0s - loss: 0.0203 - accuracy: 0.9927\n",
            "Epoch 00021: val_loss improved from 0.07317 to 0.07216, saving model to best_model.h5\n",
            "625/625 [==============================] - 376s 601ms/step - loss: 0.0203 - accuracy: 0.9927 - val_loss: 0.0722 - val_accuracy: 0.9764\n",
            "Epoch 22/80\n",
            "625/625 [==============================] - ETA: 0s - loss: 0.0174 - accuracy: 0.9938\n",
            "Epoch 00022: val_loss did not improve from 0.07216\n",
            "625/625 [==============================] - 375s 599ms/step - loss: 0.0174 - accuracy: 0.9938 - val_loss: 0.0909 - val_accuracy: 0.9732\n",
            "Epoch 23/80\n",
            "625/625 [==============================] - ETA: 0s - loss: 0.0162 - accuracy: 0.9937\n",
            "Epoch 00023: ReduceLROnPlateau reducing learning rate to 0.00016384001355618238.\n",
            "\n",
            "Epoch 00023: val_loss did not improve from 0.07216\n",
            "625/625 [==============================] - 373s 596ms/step - loss: 0.0162 - accuracy: 0.9937 - val_loss: 0.1142 - val_accuracy: 0.9567\n",
            "Epoch 24/80\n",
            "625/625 [==============================] - ETA: 0s - loss: 0.0141 - accuracy: 0.9948\n",
            "Epoch 00024: val_loss did not improve from 0.07216\n",
            "625/625 [==============================] - 374s 599ms/step - loss: 0.0141 - accuracy: 0.9948 - val_loss: 0.0755 - val_accuracy: 0.9786\n",
            "Epoch 25/80\n",
            "625/625 [==============================] - ETA: 0s - loss: 0.0117 - accuracy: 0.9959\n",
            "Epoch 00025: ReduceLROnPlateau reducing learning rate to 0.0001310720108449459.\n",
            "\n",
            "Epoch 00025: val_loss did not improve from 0.07216\n",
            "625/625 [==============================] - 375s 600ms/step - loss: 0.0117 - accuracy: 0.9959 - val_loss: 0.1080 - val_accuracy: 0.9597\n",
            "Epoch 26/80\n",
            "625/625 [==============================] - ETA: 0s - loss: 0.0096 - accuracy: 0.9966\n",
            "Epoch 00026: val_loss did not improve from 0.07216\n",
            "625/625 [==============================] - 373s 597ms/step - loss: 0.0096 - accuracy: 0.9966 - val_loss: 0.1049 - val_accuracy: 0.9816\n",
            "Epoch 27/80\n",
            "625/625 [==============================] - ETA: 0s - loss: 0.0098 - accuracy: 0.9968\n",
            "Epoch 00027: ReduceLROnPlateau reducing learning rate to 0.00010485760867595673.\n",
            "\n",
            "Epoch 00027: val_loss did not improve from 0.07216\n",
            "625/625 [==============================] - 373s 597ms/step - loss: 0.0098 - accuracy: 0.9968 - val_loss: 0.0762 - val_accuracy: 0.9776\n",
            "time: 2h 50min 27s\n"
          ],
          "name": "stdout"
        }
      ]
    },
    {
      "cell_type": "code",
      "metadata": {
        "id": "KldJlsmbaOQ_",
        "outputId": "86759af2-a02a-4d6f-ae5b-2c98dbb8aba5",
        "colab": {
          "base_uri": "https://localhost:8080/",
          "height": 313
        }
      },
      "source": [
        "plt.plot(history.history['accuracy'])\n",
        "plt.plot(history.history['val_accuracy'])\n",
        "plt.title('model_1 accuracy')\n",
        "plt.ylabel('accuracy')\n",
        "plt.xlabel('epoch')\n",
        "plt.legend(['train', 'val'], loc='upper left')\n",
        "plt.show()"
      ],
      "execution_count": null,
      "outputs": [
        {
          "output_type": "display_data",
          "data": {
            "image/png": "[encoded data removed]",
            "text/plain": [
              "<Figure size 432x288 with 1 Axes>"
            ]
          },
          "metadata": {
            "tags": [],
            "needs_background": "light"
          }
        },
        {
          "output_type": "stream",
          "text": [
            "time: 189 ms\n"
          ],
          "name": "stdout"
        }
      ]
    },
    {
      "cell_type": "code",
      "metadata": {
        "id": "etun_jqic8uE",
        "outputId": "e18757e5-2d6f-4759-bf47-75e014ce7b80",
        "colab": {
          "base_uri": "https://localhost:8080/",
          "height": 145
        }
      },
      "source": [
        "submit = pd.read_csv(\"/content/drive/My Drive/dog_vs_cat/sample_submission.csv\") \n",
        "print(submit.head())"
      ],
      "execution_count": null,
      "outputs": [
        {
          "output_type": "stream",
          "text": [
            "   id  label\n",
            "0   1    0.5\n",
            "1   2    0.5\n",
            "2   3    0.5\n",
            "3   4    0.5\n",
            "4   5    0.5\n",
            "time: 236 ms\n"
          ],
          "name": "stdout"
        }
      ]
    },
    {
      "cell_type": "code",
      "metadata": {
        "id": "X6N0y20feQ1I",
        "outputId": "5f351f18-bbb0-4234-fbdc-6e16614c98d2",
        "colab": {
          "base_uri": "https://localhost:8080/",
          "height": 35
        }
      },
      "source": [
        "# model.load_weights('last_model.h5')\n",
        "model.load_weights('best_model.h5')"
      ],
      "execution_count": null,
      "outputs": [
        {
          "output_type": "stream",
          "text": [
            "time: 5.2 s\n"
          ],
          "name": "stdout"
        }
      ]
    },
    {
      "cell_type": "code",
      "metadata": {
        "id": "XVazpMFJ2pxz",
        "outputId": "e076b8b6-ec38-413a-8986-5679879fea1a",
        "colab": {
          "base_uri": "https://localhost:8080/",
          "height": 35
        }
      },
      "source": [
        "# test_generator.reset()"
      ],
      "execution_count": null,
      "outputs": [
        {
          "output_type": "stream",
          "text": [
            "time: 807 µs\n"
          ],
          "name": "stdout"
        }
      ]
    },
    {
      "cell_type": "code",
      "metadata": {
        "id": "C1DCewcEr3J_",
        "outputId": "dec32c33-3753-4af6-d169-8b3e56cb395c",
        "colab": {
          "base_uri": "https://localhost:8080/",
          "height": 128
        }
      },
      "source": [
        "test_datagen = ImageDataGenerator(rescale=1./255)\n",
        "\n",
        "test_generator = test_datagen.flow_from_directory(\n",
        "        directory = '/content/data/',\n",
        "        classes=['test'],\n",
        "        class_mode=None,\n",
        "        target_size=(224, 224),\n",
        "        color_mode=\"rgb\",\n",
        "        shuffle = False,\n",
        "        batch_size=1)\n",
        "\n",
        "filenames = test_generator.filenames\n",
        "nb_samples = len(filenames)\n",
        "\n",
        "predict = model.predict_generator(test_generator,steps = nb_samples)"
      ],
      "execution_count": null,
      "outputs": [
        {
          "output_type": "stream",
          "text": [
            "Found 12500 images belonging to 1 classes.\n",
            "WARNING:tensorflow:From <ipython-input-22-3a95dcded004>:15: Model.predict_generator (from tensorflow.python.keras.engine.training) is deprecated and will be removed in a future version.\n",
            "Instructions for updating:\n",
            "Please use Model.predict, which supports generators.\n",
            "time: 1min 33s\n"
          ],
          "name": "stdout"
        }
      ]
    },
    {
      "cell_type": "code",
      "metadata": {
        "id": "Jv1hCF5esZHT",
        "outputId": "e80bc9bd-0c29-4f50-c309-5432154fb37f",
        "colab": {
          "base_uri": "https://localhost:8080/",
          "height": 72
        }
      },
      "source": [
        "print(predict[0])\n",
        "print(filenames[0])"
      ],
      "execution_count": null,
      "outputs": [
        {
          "output_type": "stream",
          "text": [
            "[1.]\n",
            "test/1.jpg\n",
            "time: 1.42 ms\n"
          ],
          "name": "stdout"
        }
      ]
    },
    {
      "cell_type": "code",
      "metadata": {
        "id": "fJ7AiwAhBEf0",
        "outputId": "d929d002-7896-4ae4-95ed-23694a9f1b69",
        "colab": {
          "base_uri": "https://localhost:8080/",
          "height": 35
        }
      },
      "source": [
        "for i in range(len(predict)):\n",
        "  id = filenames[i]\n",
        "  id = id.split('/')[1]\n",
        "  id = id[:-4]\n",
        "  pred = predict[i]\n",
        "  idx = submit.index[submit.id == int(id)]\n",
        "  submit.at[idx,'label'] = pred"
      ],
      "execution_count": null,
      "outputs": [
        {
          "output_type": "stream",
          "text": [
            "time: 12.8 s\n"
          ],
          "name": "stdout"
        }
      ]
    },
    {
      "cell_type": "code",
      "metadata": {
        "id": "gHA575ocA8TF",
        "outputId": "3804fa77-4222-4256-97f4-5a1f42b6d385",
        "colab": {
          "base_uri": "https://localhost:8080/",
          "height": 216
        }
      },
      "source": [
        "submit.head()"
      ],
      "execution_count": null,
      "outputs": [
        {
          "output_type": "execute_result",
          "data": {
            "text/html": [
              "<div>\n",
              "<style scoped>\n",
              "    .dataframe tbody tr th:only-of-type {\n",
              "        vertical-align: middle;\n",
              "    }\n",
              "\n",
              "    .dataframe tbody tr th {\n",
              "        vertical-align: top;\n",
              "    }\n",
              "\n",
              "    .dataframe thead th {\n",
              "        text-align: right;\n",
              "    }\n",
              "</style>\n",
              "<table border=\"1\" class=\"dataframe\">\n",
              "  <thead>\n",
              "    <tr style=\"text-align: right;\">\n",
              "      <th></th>\n",
              "      <th>id</th>\n",
              "      <th>label</th>\n",
              "    </tr>\n",
              "  </thead>\n",
              "  <tbody>\n",
              "    <tr>\n",
              "      <th>0</th>\n",
              "      <td>1</td>\n",
              "      <td>1.000000e+00</td>\n",
              "    </tr>\n",
              "    <tr>\n",
              "      <th>1</th>\n",
              "      <td>2</td>\n",
              "      <td>1.000000e+00</td>\n",
              "    </tr>\n",
              "    <tr>\n",
              "      <th>2</th>\n",
              "      <td>3</td>\n",
              "      <td>1.000000e+00</td>\n",
              "    </tr>\n",
              "    <tr>\n",
              "      <th>3</th>\n",
              "      <td>4</td>\n",
              "      <td>1.000000e+00</td>\n",
              "    </tr>\n",
              "    <tr>\n",
              "      <th>4</th>\n",
              "      <td>5</td>\n",
              "      <td>2.064481e-18</td>\n",
              "    </tr>\n",
              "  </tbody>\n",
              "</table>\n",
              "</div>"
            ],
            "text/plain": [
              "   id         label\n",
              "0   1  1.000000e+00\n",
              "1   2  1.000000e+00\n",
              "2   3  1.000000e+00\n",
              "3   4  1.000000e+00\n",
              "4   5  2.064481e-18"
            ]
          },
          "metadata": {
            "tags": []
          },
          "execution_count": 25
        },
        {
          "output_type": "stream",
          "text": [
            "time: 14.4 ms\n"
          ],
          "name": "stdout"
        }
      ]
    },
    {
      "cell_type": "code",
      "metadata": {
        "id": "JSPzmWVyaTy8",
        "outputId": "85bbce60-f7e3-43a7-9c90-0e089c49e4ad",
        "colab": {
          "base_uri": "https://localhost:8080/",
          "height": 35
        }
      },
      "source": [
        "submit.to_csv('/content/drive/My Drive/dog_vs_cat/submission.csv', index=False)\n"
      ],
      "execution_count": null,
      "outputs": [
        {
          "output_type": "stream",
          "text": [
            "time: 338 ms\n"
          ],
          "name": "stdout"
        }
      ]
    },
    {
      "cell_type": "code",
      "metadata": {
        "id": "CHNhfH6cH5Ax"
      },
      "source": [
        ""
      ],
      "execution_count": null,
      "outputs": []
    }
  ]
}